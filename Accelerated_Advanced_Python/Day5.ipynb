{
 "cells": [
  {
   "cell_type": "markdown",
   "metadata": {},
   "source": [
    "# Day 5  | First week task\n",
    "\n",
    "Lets put our knowledge into action by tackling following tasks: \n",
    "\n",
    "\n",
    "- Load time lapse fluorescence data from Matlab file \"task1.mat\" that is in the main course folder. Data are stored in two matrices: *x_norm* contains trajectories and *t* is a time vector\n",
    "\n",
    "- Plot (with labels) example cell tracetories | Tip: transpose the loaded data to get first dimension the same\n",
    "\n",
    "- Find peaks in each trajectories usin scipy library functions | Tip: Search for suitable functions in scipy manual\n",
    "\n",
    "- Calculate amplitude and period of oscillations | Tip: the period of oscillation is a distance between peaks in a single cell trajectory\n",
    "\n",
    "- Draw histograms of period distribution\n",
    "\n",
    "- Plot amplitude vs period with labels \n",
    "\n",
    "- Select ten cell trajectiories with the smallest periods and plot those as a heat map \n",
    "\n",
    "- Perform frequency analysis using FFT Fourier transformation and identify a dominant frequency in the signal\n"
   ]
  },
  {
   "cell_type": "code",
   "execution_count": null,
   "metadata": {
    "scrolled": true
   },
   "outputs": [],
   "source": [
    "#import necessary tools, please add yourself here whatever you think you might need to solve the task\n",
    "\n",
    "#basics\n",
    "import numpy as np\n",
    "import scipy.io as sio\n",
    "import matplotlib.pyplot as plotter\n",
    "from scipy.fftpack import fft\n",
    "from scipy.signal import find_peaks\n",
    "\n",
    "\n",
    "data = sio.loadmat('./task1.mat')\n",
    "\n",
    "x = np.transpose(data['x_norm'])\n",
    "time = np.transpose(data['t'])\n",
    "x.shape\n",
    "\n"
   ]
  },
  {
   "cell_type": "code",
   "execution_count": null,
   "metadata": {
    "scrolled": true
   },
   "outputs": [],
   "source": [
    "plotter.plot(time,x[:,1])\n",
    "\n",
    "time.shape\n"
   ]
  },
  {
   "cell_type": "code",
   "execution_count": null,
   "metadata": {},
   "outputs": [],
   "source": [
    "x.shape"
   ]
  },
  {
   "cell_type": "code",
   "execution_count": null,
   "metadata": {},
   "outputs": [],
   "source": [
    "fig = plotter.figure()\n",
    "plotter.style.use('classic')\n",
    "plotter.imshow(x[:,:].T, aspect='auto',origin='lower',\n",
    "           cmap='jet')\n",
    "plotter.colorbar()\n",
    "plotter.clim(0,1)"
   ]
  },
  {
   "cell_type": "code",
   "execution_count": null,
   "metadata": {},
   "outputs": [],
   "source": [
    "peaks = find_peaks(x[:,1])"
   ]
  },
  {
   "cell_type": "code",
   "execution_count": null,
   "metadata": {},
   "outputs": [],
   "source": [
    "peaks\n"
   ]
  },
  {
   "cell_type": "code",
   "execution_count": null,
   "metadata": {},
   "outputs": [],
   "source": [
    "x[:,1]"
   ]
  },
  {
   "cell_type": "code",
   "execution_count": null,
   "metadata": {},
   "outputs": [],
   "source": [
    "a=x[:,1]"
   ]
  },
  {
   "cell_type": "code",
   "execution_count": null,
   "metadata": {},
   "outputs": [],
   "source": [
    "a= x[:,1]\n",
    "amp=find_peaks(a)[0]\n",
    "amp[amp == np.nan]=0\n",
    "amp[0]\n",
    "test=find_peaks(a)\n",
    "\n",
    "amp[0]"
   ]
  },
  {
   "cell_type": "code",
   "execution_count": null,
   "metadata": {},
   "outputs": [],
   "source": [
    "lt={}\n",
    "lt[0]=amp\n",
    "lt[1]=amp\n",
    "\n",
    "\n"
   ]
  },
  {
   "cell_type": "code",
   "execution_count": null,
   "metadata": {},
   "outputs": [],
   "source": [
    "\n",
    "lt"
   ]
  },
  {
   "cell_type": "code",
   "execution_count": null,
   "metadata": {},
   "outputs": [],
   "source": [
    "new_array=lt[1]"
   ]
  },
  {
   "cell_type": "code",
   "execution_count": null,
   "metadata": {},
   "outputs": [],
   "source": [
    "lt[0][0]"
   ]
  },
  {
   "cell_type": "code",
   "execution_count": null,
   "metadata": {},
   "outputs": [],
   "source": []
  }
 ],
 "metadata": {
  "kernelspec": {
   "display_name": "Python 3 (ipykernel)",
   "language": "python",
   "name": "python3"
  },
  "language_info": {
   "codemirror_mode": {
    "name": "ipython",
    "version": 3
   },
   "file_extension": ".py",
   "mimetype": "text/x-python",
   "name": "python",
   "nbconvert_exporter": "python",
   "pygments_lexer": "ipython3",
   "version": "3.9.12"
  }
 },
 "nbformat": 4,
 "nbformat_minor": 2
}
